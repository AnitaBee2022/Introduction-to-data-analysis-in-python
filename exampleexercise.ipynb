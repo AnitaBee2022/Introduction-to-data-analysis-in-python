{
 "cells": [
  {
   "cell_type": "code",
   "execution_count": null,
   "id": "a8d41d7d-cacf-4915-8699-8b60e432326d",
   "metadata": {},
   "outputs": [],
   "source": [
    "Write a Python program that prompts the user to input two numbers and perform the \n",
    "following operations:\n",
    "1. Calculate the sum of the two numbers\n",
    "2. Calculate the absolute difference between the two numbers.\n",
    "3. Determine if the first number is greater than, less than, or equal to the second number.\n",
    "4. Concatenate the two numbers as strings.\n",
    "5. Repeat the concatenation of the two numbers three times.\n",
    "6. Based on the sum of the two numbers, determine and print a message:\n",
    "• If the sum is greater than 100, print \"Big sum!\"\n",
    "• If the sum is between 50 and 100 (inclusive), print \"Medium sum!\"\n",
    "• If the sum is less than 50, print \"Small sum!"
   ]
  },
  {
   "cell_type": "code",
   "execution_count": 24,
   "id": "2837bf6b-1be5-4aa8-b838-b7c1ed27d424",
   "metadata": {},
   "outputs": [
    {
     "name": "stdin",
     "output_type": "stream",
     "text": [
      "Enter first number:  50\n",
      "Enter second number:  60\n"
     ]
    },
    {
     "name": "stdout",
     "output_type": "stream",
     "text": [
      "The sum of your numbers is: 110\n",
      "The absolute difference is: 10\n",
      "The First number is less than the second\n",
      "The concatenation is 5060\n",
      "Big Sum\n"
     ]
    }
   ],
   "source": [
    "num1 = int(input('Enter first number: '))\n",
    "num2 = int( input('Enter second number: '))\n",
    "sum = num1 + num2\n",
    "print(\"The sum of your numbers is:\",sum)\n",
    "difference = num1 - num2\n",
    "absolute_difference = abs(difference)\n",
    "print(\"The absolute difference is:\", absolute_difference)\n",
    "if num1>num2:\n",
    "    print('The First number is larger than the second')\n",
    "elif num1<num2:\n",
    "    print('The First number is less than the second')\n",
    "elif num1==num2:\n",
    "    print('The numbers are equal')\n",
    "\n",
    "concatenate= str(num1) + str(num2)\n",
    "print('The concatenation is', concatenate)\n",
    "repeated_concatenation=(concatenate*3)\n",
    "if sum > 100:\n",
    "    print('Big Sum')\n",
    "elif  50 <= sum_numbers <= 100:\n",
    "    print('Medium Sum')\n",
    "else:\n",
    "    print('Small Sum')\n",
    "    "
   ]
  },
  {
   "cell_type": "code",
   "execution_count": null,
   "id": "3bcb0694-5d7c-4a1a-9b3b-a2d3d9d7365f",
   "metadata": {},
   "outputs": [],
   "source": [
    "Write a Python program that takes a student's name, age, and three subject scores as input and \n",
    "calculates the average score. Based on the average score, determine and print the student's \n",
    "grade using the following grading scale\n",
    "A: Average score >= 90\n",
    "B: 80 <= Average score < 90\n",
    "C: 70 <= Average score < 80\n",
    "D: 60 <= Average score < 70\n",
    "F: Average score < 60"
   ]
  },
  {
   "cell_type": "code",
   "execution_count": null,
   "id": "2c5efc30-4947-44c2-9316-537ef74a72a1",
   "metadata": {},
   "outputs": [],
   "source": [
    "name=input('Enter name')\n",
    "age=int(input('Enter age'))\n",
    "scores=[]\n",
    "scores.append"
   ]
  }
 ],
 "metadata": {
  "kernelspec": {
   "display_name": "Python 3 (ipykernel)",
   "language": "python",
   "name": "python3"
  },
  "language_info": {
   "codemirror_mode": {
    "name": "ipython",
    "version": 3
   },
   "file_extension": ".py",
   "mimetype": "text/x-python",
   "name": "python",
   "nbconvert_exporter": "python",
   "pygments_lexer": "ipython3",
   "version": "3.12.4"
  }
 },
 "nbformat": 4,
 "nbformat_minor": 5
}
