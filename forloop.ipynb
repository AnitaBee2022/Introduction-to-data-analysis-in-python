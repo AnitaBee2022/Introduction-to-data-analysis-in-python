{
 "cells": [
  {
   "cell_type": "code",
   "execution_count": 10,
   "id": "8b6f3987-733f-486e-836a-a8295af84459",
   "metadata": {},
   "outputs": [
    {
     "name": "stdout",
     "output_type": "stream",
     "text": [
      "1,2,3,4,5,6,7,8,9,10,"
     ]
    }
   ],
   "source": [
    "#1,2,3,4,5,6,7,8,9,10\n",
    "for x in range(1, 11):\n",
    "    print(x, end=\",\")"
   ]
  },
  {
   "cell_type": "code",
   "execution_count": 12,
   "id": "2d41af67-ec92-46e6-8e01-aa9e49623cba",
   "metadata": {},
   "outputs": [
    {
     "name": "stdout",
     "output_type": "stream",
     "text": [
      "1,2,3,4,5,6,7,8,9,10,\n",
      " 10\n"
     ]
    }
   ],
   "source": [
    "#1,2,3,4,5,6,7,8,9,10\n",
    "total = 0#defining a variable\n",
    "for x in range(1,11):#series\n",
    "    total=x\n",
    "    print(x, end=',')\n",
    "\n",
    "print('\\n', total)# \\n-print it on a new line"
   ]
  },
  {
   "cell_type": "code",
   "execution_count": 14,
   "id": "3d4b90b5-f643-46b3-960c-f345000e1257",
   "metadata": {},
   "outputs": [
    {
     "name": "stdout",
     "output_type": "stream",
     "text": [
      "2,4,6,8,10,"
     ]
    }
   ],
   "source": [
    "#2,4,6,8,10\n",
    "for x in range(2,11,2):#sequence\n",
    "    print(x, end=',')"
   ]
  },
  {
   "cell_type": "code",
   "execution_count": 16,
   "id": "3f462f3f-30d8-4ad3-9970-38afdb4c5c0b",
   "metadata": {},
   "outputs": [
    {
     "name": "stdout",
     "output_type": "stream",
     "text": [
      "1,5,9,13,17,21,25,29,33,"
     ]
    }
   ],
   "source": [
    "for x in range(1,36,4):#sequence of 4( 4 is the sequence, 36 is the range, 1 is the beginning)\n",
    "    print(x, end=',')"
   ]
  },
  {
   "cell_type": "code",
   "execution_count": 20,
   "id": "12ea3621-0453-4ce7-a8fb-f3d96ffbaaa9",
   "metadata": {},
   "outputs": [
    {
     "name": "stdin",
     "output_type": "stream",
     "text": [
      "Enter your age: 30\n",
      "Enter your age: 40\n",
      "Enter your age: 70\n",
      "Enter your age: 54\n"
     ]
    },
    {
     "name": "stdout",
     "output_type": "stream",
     "text": [
      "194 48.5\n"
     ]
    }
   ],
   "source": [
    "x=int(input(\"Enter your age:\"))\n",
    "y=int(input(\"Enter your age:\"))\n",
    "z=int(input(\"Enter your age:\"))\n",
    "xy=int(input(\"Enter your age:\"))\n",
    "total=x+y+z+xy\n",
    "average=total/4\n",
    "print(total, average)"
   ]
  },
  {
   "cell_type": "code",
   "execution_count": 26,
   "id": "d47eac39-f142-47e8-8e31-bf33be1b4fb8",
   "metadata": {},
   "outputs": [
    {
     "name": "stdin",
     "output_type": "stream",
     "text": [
      "Enter your age 5\n"
     ]
    },
    {
     "name": "stdout",
     "output_type": "stream",
     "text": [
      "5,"
     ]
    },
    {
     "name": "stdin",
     "output_type": "stream",
     "text": [
      "Enter your age 4\n"
     ]
    },
    {
     "name": "stdout",
     "output_type": "stream",
     "text": [
      "4,"
     ]
    },
    {
     "name": "stdin",
     "output_type": "stream",
     "text": [
      "Enter your age 6\n"
     ]
    },
    {
     "name": "stdout",
     "output_type": "stream",
     "text": [
      "6,"
     ]
    },
    {
     "name": "stdin",
     "output_type": "stream",
     "text": [
      "Enter your age 3\n"
     ]
    },
    {
     "name": "stdout",
     "output_type": "stream",
     "text": [
      "3,\n",
      " 18 4.5\n"
     ]
    }
   ],
   "source": [
    "total = 0  #loops for multiple inputs\n",
    "for x in range(4):# for loop as long as the condition is true it will run.\n",
    "    x = int(input(\"Enter your age\"))\n",
    "    total +=x\n",
    "    print(x, end=',')\n",
    "\n",
    "print('\\n', total, total/4)"
   ]
  },
  {
   "cell_type": "code",
   "execution_count": 32,
   "id": "16fd4d89-b8e3-47b8-a1f2-7f050db28523",
   "metadata": {},
   "outputs": [
    {
     "name": "stdin",
     "output_type": "stream",
     "text": [
      "Enter your score 10\n",
      "Enter your score 20\n",
      "Enter your score 30\n",
      "Enter your score 40\n",
      "Enter your score 50\n"
     ]
    },
    {
     "name": "stdout",
     "output_type": "stream",
     "text": [
      "\n",
      " 30.0\n"
     ]
    }
   ],
   "source": [
    "##Assignment 1\n",
    "##Write a for loop that receives 5 scores from the keyboard and display the average of 5 values\n",
    "\n",
    "total = 0  #loops for multiple inputs\n",
    "for x in range(5):# for loop as long as the condition is true it will run.\n",
    "    x = int(input(\"Enter your score\"))\n",
    "    total +=x\n",
    "   \n",
    "print('\\n',  total/5)"
   ]
  },
  {
   "cell_type": "code",
   "execution_count": null,
   "id": "3b8d7a59-aa57-4505-a48c-38e1d4089768",
   "metadata": {},
   "outputs": [],
   "source": []
  },
  {
   "cell_type": "code",
   "execution_count": null,
   "id": "7a54dbf3-599b-45ea-8669-feecfdf15e1f",
   "metadata": {},
   "outputs": [],
   "source": []
  }
 ],
 "metadata": {
  "kernelspec": {
   "display_name": "Python 3 (ipykernel)",
   "language": "python",
   "name": "python3"
  },
  "language_info": {
   "codemirror_mode": {
    "name": "ipython",
    "version": 3
   },
   "file_extension": ".py",
   "mimetype": "text/x-python",
   "name": "python",
   "nbconvert_exporter": "python",
   "pygments_lexer": "ipython3",
   "version": "3.12.4"
  }
 },
 "nbformat": 4,
 "nbformat_minor": 5
}
