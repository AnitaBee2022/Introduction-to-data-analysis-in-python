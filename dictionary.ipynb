{
 "cells": [
  {
   "cell_type": "code",
   "execution_count": 1,
   "id": "1b475b88-f3be-44a6-a093-c7e8dfdd54c1",
   "metadata": {},
   "outputs": [],
   "source": [
    "# syntax data={key:value}\n",
    "my_dictionary={\n",
    "    \"name\":\"person1\",\n",
    "    \"age\": 35,\n",
    "    \"salary\": 4000\n",
    "}"
   ]
  },
  {
   "cell_type": "code",
   "execution_count": 3,
   "id": "947c452e-39f3-4817-9a6c-525de649b2bc",
   "metadata": {},
   "outputs": [
    {
     "name": "stdout",
     "output_type": "stream",
     "text": [
      "{'name': 'person1', 'age': 35, 'salary': 4000}\n"
     ]
    }
   ],
   "source": [
    "print(my_dictionary)"
   ]
  },
  {
   "cell_type": "code",
   "execution_count": 7,
   "id": "64bfca01-630f-416f-af28-a25051ce3b7b",
   "metadata": {},
   "outputs": [],
   "source": [
    "#storing information of more than one person\n",
    "my_dictionary={\n",
    "    \"name\":[\"person1\", \"person2\",\"person3\",\"person4\",\"person5\"],\n",
    "    \"age\": [35,36,37,38,39],\n",
    "    \"salary\": [4000, 5000, 6000, 7000, 8000]\n",
    "}"
   ]
  },
  {
   "cell_type": "code",
   "execution_count": 11,
   "id": "01d04002-eeb3-47c3-891e-e34271c8f522",
   "metadata": {},
   "outputs": [
    {
     "data": {
      "text/plain": [
       "{'name': ['person1', 'person2', 'person3', 'person4', 'person5'],\n",
       " 'age': [35, 36, 37, 38, 39],\n",
       " 'salary': [4000, 5000, 6000, 7000, 8000]}"
      ]
     },
     "execution_count": 11,
     "metadata": {},
     "output_type": "execute_result"
    }
   ],
   "source": [
    "my_dictionary"
   ]
  },
  {
   "cell_type": "code",
   "execution_count": 15,
   "id": "6151878a-3443-4ea1-a3bb-8b4d3f14ccef",
   "metadata": {},
   "outputs": [],
   "source": [
    "\"\"\"dictionary operations\n",
    "    replace value\n",
    "    add key\n",
    "    deleting value\n",
    "    accessing items in dictionary\n",
    "    \"\"\"\n",
    "my_dictionary['location']= [\"Mombasa\",'Kisumu','Nairobi','Migori','Kisii']#adding key to a dictionary"
   ]
  },
  {
   "cell_type": "code",
   "execution_count": 17,
   "id": "01c88f36-dc6e-412b-81eb-d7e2c447918c",
   "metadata": {},
   "outputs": [
    {
     "data": {
      "text/plain": [
       "{'name': ['person1', 'person2', 'person3', 'person4', 'person5'],\n",
       " 'age': [35, 36, 37, 38, 39],\n",
       " 'salary': [4000, 5000, 6000, 7000, 8000],\n",
       " 'location': ['Mombasa', 'Kisumu', 'Nairobi', 'Migori', 'Kisii']}"
      ]
     },
     "execution_count": 17,
     "metadata": {},
     "output_type": "execute_result"
    }
   ],
   "source": [
    "my_dictionary"
   ]
  },
  {
   "cell_type": "code",
   "execution_count": 19,
   "id": "4021d898-e662-4fc9-9e2f-b321e4a15750",
   "metadata": {},
   "outputs": [
    {
     "name": "stdout",
     "output_type": "stream",
     "text": [
      "name ['person1', 'person2', 'person3', 'person4', 'person5']\n",
      "age [35, 36, 37, 38, 39]\n",
      "salary [4000, 5000, 6000, 7000, 8000]\n",
      "location ['Mombasa', 'Kisumu', 'Nairobi', 'Migori', 'Kisii']\n"
     ]
    }
   ],
   "source": [
    "for key, value in my_dictionary.items(): #accessing each item in dictionary\n",
    "    print(key, value)"
   ]
  },
  {
   "cell_type": "code",
   "execution_count": null,
   "id": "55424471-1b91-407d-9320-cce3cee65968",
   "metadata": {},
   "outputs": [],
   "source": [
    "'''Data Frames created from a dictionary\n",
    "\n",
    "'''\n"
   ]
  },
  {
   "cell_type": "code",
   "execution_count": 21,
   "id": "6e507dfa-6fe4-458a-9fe2-d6a80c19fcf3",
   "metadata": {},
   "outputs": [],
   "source": [
    "import pandas as pd# pandas is a library stored in a variable named pd"
   ]
  },
  {
   "cell_type": "code",
   "execution_count": 23,
   "id": "e86e4f90-9605-4776-ba8e-3c9e167051e3",
   "metadata": {},
   "outputs": [
    {
     "data": {
      "text/plain": [
       "{'name': ['person1', 'person2', 'person3', 'person4', 'person5'],\n",
       " 'age': [35, 36, 37, 38, 39],\n",
       " 'salary': [4000, 5000, 6000, 7000, 8000],\n",
       " 'location': ['Mombasa', 'Kisumu', 'Nairobi', 'Migori', 'Kisii']}"
      ]
     },
     "execution_count": 23,
     "metadata": {},
     "output_type": "execute_result"
    }
   ],
   "source": [
    "my_dictionary"
   ]
  },
  {
   "cell_type": "code",
   "execution_count": 25,
   "id": "5eb06b88-cd7f-4bae-bf94-4ce02f41ebe2",
   "metadata": {},
   "outputs": [],
   "source": [
    "df=pd.DataFrame(my_dictionary)#the my_dictionary has been stored in variable df\n",
    "#DataFrame converts dictionary to a table key is the column name the values are the records"
   ]
  },
  {
   "cell_type": "code",
   "execution_count": 27,
   "id": "8b5478da-7a09-4e01-a36b-66571604a7b7",
   "metadata": {},
   "outputs": [
    {
     "data": {
      "text/html": [
       "<div>\n",
       "<style scoped>\n",
       "    .dataframe tbody tr th:only-of-type {\n",
       "        vertical-align: middle;\n",
       "    }\n",
       "\n",
       "    .dataframe tbody tr th {\n",
       "        vertical-align: top;\n",
       "    }\n",
       "\n",
       "    .dataframe thead th {\n",
       "        text-align: right;\n",
       "    }\n",
       "</style>\n",
       "<table border=\"1\" class=\"dataframe\">\n",
       "  <thead>\n",
       "    <tr style=\"text-align: right;\">\n",
       "      <th></th>\n",
       "      <th>name</th>\n",
       "      <th>age</th>\n",
       "      <th>salary</th>\n",
       "      <th>location</th>\n",
       "    </tr>\n",
       "  </thead>\n",
       "  <tbody>\n",
       "    <tr>\n",
       "      <th>0</th>\n",
       "      <td>person1</td>\n",
       "      <td>35</td>\n",
       "      <td>4000</td>\n",
       "      <td>Mombasa</td>\n",
       "    </tr>\n",
       "    <tr>\n",
       "      <th>1</th>\n",
       "      <td>person2</td>\n",
       "      <td>36</td>\n",
       "      <td>5000</td>\n",
       "      <td>Kisumu</td>\n",
       "    </tr>\n",
       "    <tr>\n",
       "      <th>2</th>\n",
       "      <td>person3</td>\n",
       "      <td>37</td>\n",
       "      <td>6000</td>\n",
       "      <td>Nairobi</td>\n",
       "    </tr>\n",
       "    <tr>\n",
       "      <th>3</th>\n",
       "      <td>person4</td>\n",
       "      <td>38</td>\n",
       "      <td>7000</td>\n",
       "      <td>Migori</td>\n",
       "    </tr>\n",
       "    <tr>\n",
       "      <th>4</th>\n",
       "      <td>person5</td>\n",
       "      <td>39</td>\n",
       "      <td>8000</td>\n",
       "      <td>Kisii</td>\n",
       "    </tr>\n",
       "  </tbody>\n",
       "</table>\n",
       "</div>"
      ],
      "text/plain": [
       "      name  age  salary location\n",
       "0  person1   35    4000  Mombasa\n",
       "1  person2   36    5000   Kisumu\n",
       "2  person3   37    6000  Nairobi\n",
       "3  person4   38    7000   Migori\n",
       "4  person5   39    8000    Kisii"
      ]
     },
     "execution_count": 27,
     "metadata": {},
     "output_type": "execute_result"
    }
   ],
   "source": [
    "df"
   ]
  },
  {
   "cell_type": "code",
   "execution_count": 29,
   "id": "e835e5e4-1a1a-4972-ac5b-e37de788710b",
   "metadata": {},
   "outputs": [
    {
     "data": {
      "text/plain": [
       "0    person1\n",
       "1    person2\n",
       "2    person3\n",
       "3    person4\n",
       "4    person5\n",
       "Name: name, dtype: object"
      ]
     },
     "execution_count": 29,
     "metadata": {},
     "output_type": "execute_result"
    }
   ],
   "source": [
    "df[\"name\"]"
   ]
  },
  {
   "cell_type": "code",
   "execution_count": 31,
   "id": "632f3d1a-f3e3-4feb-998b-2f67ced5928f",
   "metadata": {},
   "outputs": [
    {
     "data": {
      "text/plain": [
       "0    35\n",
       "1    36\n",
       "2    37\n",
       "3    38\n",
       "4    39\n",
       "Name: age, dtype: int64"
      ]
     },
     "execution_count": 31,
     "metadata": {},
     "output_type": "execute_result"
    }
   ],
   "source": [
    "df['age']"
   ]
  },
  {
   "cell_type": "code",
   "execution_count": 33,
   "id": "0b79f00f-80e9-4b27-843b-2dbf360ceb0b",
   "metadata": {},
   "outputs": [
    {
     "data": {
      "text/html": [
       "<div>\n",
       "<style scoped>\n",
       "    .dataframe tbody tr th:only-of-type {\n",
       "        vertical-align: middle;\n",
       "    }\n",
       "\n",
       "    .dataframe tbody tr th {\n",
       "        vertical-align: top;\n",
       "    }\n",
       "\n",
       "    .dataframe thead th {\n",
       "        text-align: right;\n",
       "    }\n",
       "</style>\n",
       "<table border=\"1\" class=\"dataframe\">\n",
       "  <thead>\n",
       "    <tr style=\"text-align: right;\">\n",
       "      <th></th>\n",
       "      <th>name</th>\n",
       "      <th>age</th>\n",
       "    </tr>\n",
       "  </thead>\n",
       "  <tbody>\n",
       "    <tr>\n",
       "      <th>0</th>\n",
       "      <td>person1</td>\n",
       "      <td>35</td>\n",
       "    </tr>\n",
       "    <tr>\n",
       "      <th>1</th>\n",
       "      <td>person2</td>\n",
       "      <td>36</td>\n",
       "    </tr>\n",
       "    <tr>\n",
       "      <th>2</th>\n",
       "      <td>person3</td>\n",
       "      <td>37</td>\n",
       "    </tr>\n",
       "    <tr>\n",
       "      <th>3</th>\n",
       "      <td>person4</td>\n",
       "      <td>38</td>\n",
       "    </tr>\n",
       "    <tr>\n",
       "      <th>4</th>\n",
       "      <td>person5</td>\n",
       "      <td>39</td>\n",
       "    </tr>\n",
       "  </tbody>\n",
       "</table>\n",
       "</div>"
      ],
      "text/plain": [
       "      name  age\n",
       "0  person1   35\n",
       "1  person2   36\n",
       "2  person3   37\n",
       "3  person4   38\n",
       "4  person5   39"
      ]
     },
     "execution_count": 33,
     "metadata": {},
     "output_type": "execute_result"
    }
   ],
   "source": [
    "df[['name', 'age']] #accessing more than one column use 2 brackets"
   ]
  },
  {
   "cell_type": "code",
   "execution_count": 57,
   "id": "5c541c16-2c11-4fd2-ab12-d27da6a53e83",
   "metadata": {},
   "outputs": [
    {
     "data": {
      "text/plain": [
       "0    39\n",
       "1    40\n",
       "2    41\n",
       "3    42\n",
       "4    43\n",
       "Name: age, dtype: int64"
      ]
     },
     "execution_count": 57,
     "metadata": {},
     "output_type": "execute_result"
    }
   ],
   "source": [
    "df['age']+1#updating each age with 1 more year"
   ]
  },
  {
   "cell_type": "code",
   "execution_count": 41,
   "id": "99362da4-3828-4052-a09c-48b28b9d64ac",
   "metadata": {},
   "outputs": [
    {
     "data": {
      "text/plain": [
       "name        object\n",
       "age          int64\n",
       "salary       int64\n",
       "location    object\n",
       "dtype: object"
      ]
     },
     "execution_count": 41,
     "metadata": {},
     "output_type": "execute_result"
    }
   ],
   "source": [
    "df.dtypes"
   ]
  },
  {
   "cell_type": "code",
   "execution_count": 53,
   "id": "9ae0d840-4673-4dcb-b753-9c886051e888",
   "metadata": {},
   "outputs": [],
   "source": [
    "df['age']=df['age']+1 #updating the column age"
   ]
  },
  {
   "cell_type": "code",
   "execution_count": 55,
   "id": "9b325eda-9fb7-4979-8163-92eb4e2d5d16",
   "metadata": {},
   "outputs": [
    {
     "data": {
      "text/html": [
       "<div>\n",
       "<style scoped>\n",
       "    .dataframe tbody tr th:only-of-type {\n",
       "        vertical-align: middle;\n",
       "    }\n",
       "\n",
       "    .dataframe tbody tr th {\n",
       "        vertical-align: top;\n",
       "    }\n",
       "\n",
       "    .dataframe thead th {\n",
       "        text-align: right;\n",
       "    }\n",
       "</style>\n",
       "<table border=\"1\" class=\"dataframe\">\n",
       "  <thead>\n",
       "    <tr style=\"text-align: right;\">\n",
       "      <th></th>\n",
       "      <th>name</th>\n",
       "      <th>age</th>\n",
       "      <th>salary</th>\n",
       "      <th>location</th>\n",
       "    </tr>\n",
       "  </thead>\n",
       "  <tbody>\n",
       "    <tr>\n",
       "      <th>0</th>\n",
       "      <td>person1</td>\n",
       "      <td>38</td>\n",
       "      <td>4000</td>\n",
       "      <td>Mombasa</td>\n",
       "    </tr>\n",
       "    <tr>\n",
       "      <th>1</th>\n",
       "      <td>person2</td>\n",
       "      <td>39</td>\n",
       "      <td>5000</td>\n",
       "      <td>Kisumu</td>\n",
       "    </tr>\n",
       "    <tr>\n",
       "      <th>2</th>\n",
       "      <td>person3</td>\n",
       "      <td>40</td>\n",
       "      <td>6000</td>\n",
       "      <td>Nairobi</td>\n",
       "    </tr>\n",
       "    <tr>\n",
       "      <th>3</th>\n",
       "      <td>person4</td>\n",
       "      <td>41</td>\n",
       "      <td>7000</td>\n",
       "      <td>Migori</td>\n",
       "    </tr>\n",
       "    <tr>\n",
       "      <th>4</th>\n",
       "      <td>person5</td>\n",
       "      <td>42</td>\n",
       "      <td>8000</td>\n",
       "      <td>Kisii</td>\n",
       "    </tr>\n",
       "  </tbody>\n",
       "</table>\n",
       "</div>"
      ],
      "text/plain": [
       "      name  age  salary location\n",
       "0  person1   38    4000  Mombasa\n",
       "1  person2   39    5000   Kisumu\n",
       "2  person3   40    6000  Nairobi\n",
       "3  person4   41    7000   Migori\n",
       "4  person5   42    8000    Kisii"
      ]
     },
     "execution_count": 55,
     "metadata": {},
     "output_type": "execute_result"
    }
   ],
   "source": [
    "df"
   ]
  },
  {
   "cell_type": "code",
   "execution_count": 59,
   "id": "d24b3b79-b654-4438-9304-8d5478465e40",
   "metadata": {},
   "outputs": [],
   "source": [
    "df['salary']=df['salary']+200#adding 200 to each salary"
   ]
  },
  {
   "cell_type": "code",
   "execution_count": 61,
   "id": "900c231a-c110-4c60-9c20-0230aa1eee62",
   "metadata": {},
   "outputs": [
    {
     "data": {
      "text/html": [
       "<div>\n",
       "<style scoped>\n",
       "    .dataframe tbody tr th:only-of-type {\n",
       "        vertical-align: middle;\n",
       "    }\n",
       "\n",
       "    .dataframe tbody tr th {\n",
       "        vertical-align: top;\n",
       "    }\n",
       "\n",
       "    .dataframe thead th {\n",
       "        text-align: right;\n",
       "    }\n",
       "</style>\n",
       "<table border=\"1\" class=\"dataframe\">\n",
       "  <thead>\n",
       "    <tr style=\"text-align: right;\">\n",
       "      <th></th>\n",
       "      <th>name</th>\n",
       "      <th>age</th>\n",
       "      <th>salary</th>\n",
       "      <th>location</th>\n",
       "    </tr>\n",
       "  </thead>\n",
       "  <tbody>\n",
       "    <tr>\n",
       "      <th>0</th>\n",
       "      <td>person1</td>\n",
       "      <td>38</td>\n",
       "      <td>4200</td>\n",
       "      <td>Mombasa</td>\n",
       "    </tr>\n",
       "    <tr>\n",
       "      <th>1</th>\n",
       "      <td>person2</td>\n",
       "      <td>39</td>\n",
       "      <td>5200</td>\n",
       "      <td>Kisumu</td>\n",
       "    </tr>\n",
       "    <tr>\n",
       "      <th>2</th>\n",
       "      <td>person3</td>\n",
       "      <td>40</td>\n",
       "      <td>6200</td>\n",
       "      <td>Nairobi</td>\n",
       "    </tr>\n",
       "    <tr>\n",
       "      <th>3</th>\n",
       "      <td>person4</td>\n",
       "      <td>41</td>\n",
       "      <td>7200</td>\n",
       "      <td>Migori</td>\n",
       "    </tr>\n",
       "    <tr>\n",
       "      <th>4</th>\n",
       "      <td>person5</td>\n",
       "      <td>42</td>\n",
       "      <td>8200</td>\n",
       "      <td>Kisii</td>\n",
       "    </tr>\n",
       "  </tbody>\n",
       "</table>\n",
       "</div>"
      ],
      "text/plain": [
       "      name  age  salary location\n",
       "0  person1   38    4200  Mombasa\n",
       "1  person2   39    5200   Kisumu\n",
       "2  person3   40    6200  Nairobi\n",
       "3  person4   41    7200   Migori\n",
       "4  person5   42    8200    Kisii"
      ]
     },
     "execution_count": 61,
     "metadata": {},
     "output_type": "execute_result"
    }
   ],
   "source": [
    "df"
   ]
  },
  {
   "cell_type": "code",
   "execution_count": 69,
   "id": "a011feca-585e-4181-8f5c-757dee845180",
   "metadata": {},
   "outputs": [],
   "source": [
    "df['salary'],df['age']=df['salary']+500, df['age']+1"
   ]
  },
  {
   "cell_type": "code",
   "execution_count": 71,
   "id": "a883e3ac-7a8b-437d-8891-ee0eb47e5cf9",
   "metadata": {},
   "outputs": [
    {
     "data": {
      "text/html": [
       "<div>\n",
       "<style scoped>\n",
       "    .dataframe tbody tr th:only-of-type {\n",
       "        vertical-align: middle;\n",
       "    }\n",
       "\n",
       "    .dataframe tbody tr th {\n",
       "        vertical-align: top;\n",
       "    }\n",
       "\n",
       "    .dataframe thead th {\n",
       "        text-align: right;\n",
       "    }\n",
       "</style>\n",
       "<table border=\"1\" class=\"dataframe\">\n",
       "  <thead>\n",
       "    <tr style=\"text-align: right;\">\n",
       "      <th></th>\n",
       "      <th>name</th>\n",
       "      <th>age</th>\n",
       "      <th>salary</th>\n",
       "      <th>location</th>\n",
       "    </tr>\n",
       "  </thead>\n",
       "  <tbody>\n",
       "    <tr>\n",
       "      <th>0</th>\n",
       "      <td>person1</td>\n",
       "      <td>39</td>\n",
       "      <td>4700</td>\n",
       "      <td>Mombasa</td>\n",
       "    </tr>\n",
       "    <tr>\n",
       "      <th>1</th>\n",
       "      <td>person2</td>\n",
       "      <td>40</td>\n",
       "      <td>5700</td>\n",
       "      <td>Kisumu</td>\n",
       "    </tr>\n",
       "    <tr>\n",
       "      <th>2</th>\n",
       "      <td>person3</td>\n",
       "      <td>41</td>\n",
       "      <td>6700</td>\n",
       "      <td>Nairobi</td>\n",
       "    </tr>\n",
       "    <tr>\n",
       "      <th>3</th>\n",
       "      <td>person4</td>\n",
       "      <td>42</td>\n",
       "      <td>7700</td>\n",
       "      <td>Migori</td>\n",
       "    </tr>\n",
       "    <tr>\n",
       "      <th>4</th>\n",
       "      <td>person5</td>\n",
       "      <td>43</td>\n",
       "      <td>8700</td>\n",
       "      <td>Kisii</td>\n",
       "    </tr>\n",
       "  </tbody>\n",
       "</table>\n",
       "</div>"
      ],
      "text/plain": [
       "      name  age  salary location\n",
       "0  person1   39    4700  Mombasa\n",
       "1  person2   40    5700   Kisumu\n",
       "2  person3   41    6700  Nairobi\n",
       "3  person4   42    7700   Migori\n",
       "4  person5   43    8700    Kisii"
      ]
     },
     "execution_count": 71,
     "metadata": {},
     "output_type": "execute_result"
    }
   ],
   "source": [
    "df"
   ]
  },
  {
   "cell_type": "code",
   "execution_count": null,
   "id": "8ddacb64-cf01-4a07-84ee-88e16892c3ad",
   "metadata": {},
   "outputs": [],
   "source": []
  }
 ],
 "metadata": {
  "kernelspec": {
   "display_name": "Python 3 (ipykernel)",
   "language": "python",
   "name": "python3"
  },
  "language_info": {
   "codemirror_mode": {
    "name": "ipython",
    "version": 3
   },
   "file_extension": ".py",
   "mimetype": "text/x-python",
   "name": "python",
   "nbconvert_exporter": "python",
   "pygments_lexer": "ipython3",
   "version": "3.12.4"
  }
 },
 "nbformat": 4,
 "nbformat_minor": 5
}
