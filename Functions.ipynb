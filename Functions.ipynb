{
 "cells": [
  {
   "cell_type": "code",
   "execution_count": 1,
   "id": "827d2aa9-55e7-4ff1-bd1d-d657d5ba6780",
   "metadata": {},
   "outputs": [],
   "source": [
    "def family():\n",
    "    print('Family members')"
   ]
  },
  {
   "cell_type": "code",
   "execution_count": 3,
   "id": "3983134d-2dcd-4106-a3ed-4de8f8e31f73",
   "metadata": {},
   "outputs": [
    {
     "name": "stdout",
     "output_type": "stream",
     "text": [
      "Family members\n"
     ]
    }
   ],
   "source": [
    "family()"
   ]
  },
  {
   "cell_type": "code",
   "execution_count": 5,
   "id": "0ae4fb9b-3735-47df-8a7f-eed1c7fced63",
   "metadata": {},
   "outputs": [],
   "source": [
    "def add(a,b):\n",
    "    result = a+b\n",
    "    return result\n",
    "    "
   ]
  },
  {
   "cell_type": "code",
   "execution_count": 11,
   "id": "e5863cb0-720a-4b1a-8662-944a2c64fd3f",
   "metadata": {},
   "outputs": [],
   "source": [
    "x= add(6, 6)"
   ]
  },
  {
   "cell_type": "code",
   "execution_count": 14,
   "id": "6e2803cf-f2e8-4001-9c6e-4de46fe19652",
   "metadata": {},
   "outputs": [
    {
     "data": {
      "text/plain": [
       "12"
      ]
     },
     "execution_count": 14,
     "metadata": {},
     "output_type": "execute_result"
    }
   ],
   "source": [
    "x"
   ]
  },
  {
   "cell_type": "code",
   "execution_count": 18,
   "id": "6ddbac10-5d4c-4229-b7ce-395dd9235102",
   "metadata": {},
   "outputs": [
    {
     "data": {
      "text/plain": [
       "int"
      ]
     },
     "execution_count": 18,
     "metadata": {},
     "output_type": "execute_result"
    }
   ],
   "source": [
    "type(x)\n"
   ]
  },
  {
   "cell_type": "code",
   "execution_count": 32,
   "id": "8ffbcf1f-6aae-457a-96cb-e8e1477c15c8",
   "metadata": {},
   "outputs": [
    {
     "data": {
      "text/plain": [
       "'wiu'"
      ]
     },
     "execution_count": 32,
     "metadata": {},
     "output_type": "execute_result"
    }
   ],
   "source": [
    "grocery=[\"tomato\",\"wiu\",\"onion\"]\n",
    "grocery[1]#printing the item in index 1"
   ]
  },
  {
   "cell_type": "code",
   "execution_count": 34,
   "id": "93fd9711-e718-4576-b38b-2a06ae428d60",
   "metadata": {},
   "outputs": [
    {
     "name": "stdout",
     "output_type": "stream",
     "text": [
      "tomato\n",
      "wiu\n",
      "onion\n",
      "['tomato', 'wiu', 'onion']\n"
     ]
    }
   ],
   "source": [
    "grocery=[\"tomato\",\"wiu\",\"onion\"]#accessing every item in the list\n",
    "i = 0\n",
    "for item in grocery:\n",
    "     print(item)\n",
    "\n",
    "print(grocery)#printing the whole list"
   ]
  },
  {
   "cell_type": "code",
   "execution_count": 42,
   "id": "e91162c7-4049-4970-9af7-ca16efc3c280",
   "metadata": {},
   "outputs": [
    {
     "name": "stdout",
     "output_type": "stream",
     "text": [
      "['tomato', 'wiu', 'Kitunguu']\n"
     ]
    }
   ],
   "source": [
    "grocery=[\"tomato\",\"wiu\",\"onion\"]\n",
    "ind = 0\n",
    "for item in grocery:\n",
    "     if item == 'onion':\n",
    "             grocery[ind]='Kitunguu'#changing the item that has the value onion to kitunguu\n",
    "     ind=ind+1\n",
    "print(grocery)\n",
    "\n"
   ]
  },
  {
   "cell_type": "code",
   "execution_count": 44,
   "id": "b15c17d5-d0d8-40ed-91db-0a4052eb888c",
   "metadata": {},
   "outputs": [
    {
     "data": {
      "text/plain": [
       "'Kitunguu'"
      ]
     },
     "execution_count": 44,
     "metadata": {},
     "output_type": "execute_result"
    }
   ],
   "source": [
    "grocery[2]\n"
   ]
  },
  {
   "cell_type": "code",
   "execution_count": 46,
   "id": "30a37686-3ce5-4e98-b020-b70f2a0ceb2e",
   "metadata": {},
   "outputs": [
    {
     "name": "stdout",
     "output_type": "stream",
     "text": [
      "['tomato', 'wiu', 'Kitunguu', 'cabbage']\n"
     ]
    }
   ],
   "source": [
    "grocery.append(\"cabbage\")#adding an item to the list\n",
    "print(grocery)"
   ]
  },
  {
   "cell_type": "code",
   "execution_count": null,
   "id": "bebd10f3-2260-4a98-8f38-6254df965847",
   "metadata": {},
   "outputs": [],
   "source": [
    "h"
   ]
  }
 ],
 "metadata": {
  "kernelspec": {
   "display_name": "Python 3 (ipykernel)",
   "language": "python",
   "name": "python3"
  },
  "language_info": {
   "codemirror_mode": {
    "name": "ipython",
    "version": 3
   },
   "file_extension": ".py",
   "mimetype": "text/x-python",
   "name": "python",
   "nbconvert_exporter": "python",
   "pygments_lexer": "ipython3",
   "version": "3.12.4"
  }
 },
 "nbformat": 4,
 "nbformat_minor": 5
}
