{
 "cells": [
  {
   "cell_type": "code",
   "execution_count": 3,
   "id": "95cf61d5-3d67-4cfb-9eed-60406b927214",
   "metadata": {},
   "outputs": [
    {
     "name": "stdin",
     "output_type": "stream",
     "text": [
      "Enter your first number 50\n",
      "Enter your second number 60\n"
     ]
    },
    {
     "name": "stdout",
     "output_type": "stream",
     "text": [
      "The sum of the two numbers is 110\n",
      "The absoulute difference of the two numbers is 10\n",
      "first number is less than second number\n",
      "5060\n",
      "506050605060\n",
      "Big Sum!\n"
     ]
    }
   ],
   "source": [
    "x=int(input(\"Enter your first number\"))\n",
    "y=int(input(\"Enter your second number\"))\n",
    "add=(x+y)\n",
    "print(\"The sum of the two numbers is\", add)\n",
    "sub=abs(x-y)#difference of two numbers\n",
    "print(\"The absoulute difference of the two numbers is\", sub)\n",
    "if x>y:\n",
    "    print(\"first number is greater than second number\")\n",
    "elif x<y:\n",
    "    print(\"first number is less than second number\")\n",
    "else:\n",
    "    print(\"first number is equal to the second number\")\n",
    "concat=str(x)+ str(y)#concatenating strings, str to convert integer input to string\n",
    "print(concat)\n",
    "print(concat*3)#repeating concatenation\n",
    "if add>100:\n",
    "    print(\"Big Sum!\")\n",
    "elif 50 <= add <= 100:\n",
    "    print(\"Medium Sum!\")\n",
    "else:\n",
    "    print(\"Small Sum!\")"
   ]
  },
  {
   "cell_type": "code",
   "execution_count": null,
   "id": "15e12d92-95fd-4c7a-8b37-881be70605aa",
   "metadata": {},
   "outputs": [],
   "source": []
  }
 ],
 "metadata": {
  "kernelspec": {
   "display_name": "Python 3 (ipykernel)",
   "language": "python",
   "name": "python3"
  },
  "language_info": {
   "codemirror_mode": {
    "name": "ipython",
    "version": 3
   },
   "file_extension": ".py",
   "mimetype": "text/x-python",
   "name": "python",
   "nbconvert_exporter": "python",
   "pygments_lexer": "ipython3",
   "version": "3.12.4"
  }
 },
 "nbformat": 4,
 "nbformat_minor": 5
}
