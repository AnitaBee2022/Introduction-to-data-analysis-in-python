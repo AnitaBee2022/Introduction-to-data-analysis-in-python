{
 "cells": [
  {
   "cell_type": "code",
   "execution_count": 10,
   "id": "25bb04b6-69b5-43cb-9e23-e05fc355bc4d",
   "metadata": {},
   "outputs": [
    {
     "name": "stdin",
     "output_type": "stream",
     "text": [
      "Enter Age 5\n",
      "Enter Age 4\n",
      "Enter Age 3\n",
      "Enter Age 2\n"
     ]
    },
    {
     "name": "stdout",
     "output_type": "stream",
     "text": [
      "3.5\n"
     ]
    }
   ],
   "source": [
    "count = 0 #the while loop will run as long as the condition given is true or met50\n",
    "total=0\n",
    "while count < 4:\n",
    "    x=int(input(\"Enter Age\"))\n",
    "    total +=x\n",
    "    count +=1\n",
    "\n",
    "print(total/count)"
   ]
  },
  {
   "cell_type": "markdown",
   "id": "f2b4ef1b-6910-418e-a863-e2769c5cb2fc",
   "metadata": {},
   "source": []
  }
 ],
 "metadata": {
  "kernelspec": {
   "display_name": "Python 3 (ipykernel)",
   "language": "python",
   "name": "python3"
  },
  "language_info": {
   "codemirror_mode": {
    "name": "ipython",
    "version": 3
   },
   "file_extension": ".py",
   "mimetype": "text/x-python",
   "name": "python",
   "nbconvert_exporter": "python",
   "pygments_lexer": "ipython3",
   "version": "3.12.4"
  }
 },
 "nbformat": 4,
 "nbformat_minor": 5
}
