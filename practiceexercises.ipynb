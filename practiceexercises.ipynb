{
 "cells": [
  {
   "cell_type": "markdown",
   "id": "270136fa-a129-466c-8352-c546cbc333d1",
   "metadata": {},
   "source": [
    "## My trial"
   ]
  },
  {
   "cell_type": "markdown",
   "id": "3a8bb6b2-bc27-4f9e-b73a-bacb938206b8",
   "metadata": {},
   "source": [
    "Write a Python program that takes a student's name, age, and three subject scores as input and \r\n",
    "calculates the average score. Based on the average score, determine and print the student's \r\n",
    "grade using the following grading sca\n",
    "A: Average score >= 90\r\n",
    "B: 80 <= Average score < 90\r\n",
    "C: 70 <= Average score < 80\r\n",
    "D: 60 <= Average score < 70\r\n",
    "F: Average score < 60lele"
   ]
  },
  {
   "cell_type": "code",
   "execution_count": 15,
   "id": "3f325f2d-b228-45fa-ad25-4df735fdca54",
   "metadata": {},
   "outputs": [
    {
     "name": "stdin",
     "output_type": "stream",
     "text": [
      "Enter student name 45\n",
      "Enter student age 5\n",
      "Enter score1 44\n",
      "Enter score2 44\n",
      "Enter score3 44\n"
     ]
    },
    {
     "name": "stdout",
     "output_type": "stream",
     "text": [
      "44.0\n",
      "F\n"
     ]
    }
   ],
   "source": [
    "name=input('Enter student name')\n",
    "age=int(input('Enter student age'))\n",
    "subject1=int(input('Enter score1'))\n",
    "subject2=int(input('Enter score2'))\n",
    "subject3=int(input('Enter score3'))\n",
    "\n",
    "av_score=(subject1+subject2+subject3)/3\n",
    "\n",
    "print(av_score)\n",
    "if av_score>=90:\n",
    "    print ('A')\n",
    "elif av_score >=80:\n",
    "    print ('B')\n",
    "elif av_score >=70:\n",
    "    print ('C')\n",
    "elif av_score >=60:\n",
    "    print ('D')\n",
    "else:\n",
    "    print ('F')\n",
    "    \n",
    "\n",
    "\n",
    "\n",
    "\n",
    "    "
   ]
  },
  {
   "cell_type": "markdown",
   "id": "6e0933a6-488a-4aec-ad2c-d239fb5888e1",
   "metadata": {},
   "source": [
    "## Write a Python program that prompts the user to input two numbers and perform the \n",
    "following operations:\r\n",
    "1. Calculate the sum of the two numbersION\r\n",
    "2. Calculate the absolute difference between the two numbers.\r\n",
    "3. Determine if the first number is greater than, less than, or equal to the second number.\r\n",
    "4. Concatenate the two numbers as strings.\r\n",
    "5. Repeat the concatenation of the two numbers three times.\r\n",
    "6. Based on the sum of the two numbers, determine and print a message:\r\n",
    "• If the sum is greater than 100, print \"Big sum!\"\r\n",
    "• If the sum is between 50 and 100 (inclusive), print \"Medium sum!\"\r\n",
    "• If the sum is less than 50, print \"Small sum!"
   ]
  },
  {
   "cell_type": "code",
   "execution_count": 35,
   "id": "68dd480b-24e6-471f-a7cb-976ebe40ab86",
   "metadata": {},
   "outputs": [
    {
     "name": "stdin",
     "output_type": "stream",
     "text": [
      "Enter the first number: 60\n",
      "Enter the second number: 20\n"
     ]
    },
    {
     "name": "stdout",
     "output_type": "stream",
     "text": [
      "The sum is 80\n",
      "The absolute difference is 40\n",
      "First number is greater than the second\n",
      "6020\n",
      "602060206020\n",
      "Moderate Sum\n"
     ]
    }
   ],
   "source": [
    "x=int(input('Enter the first number:'))\n",
    "y=int(input('Enter the second number:'))\n",
    "add=x+y\n",
    "print('The sum is', add)\n",
    "difference=x-y\n",
    "abs_difference=abs(difference)\n",
    "print('The absolute difference is', abs_difference)\n",
    "if x>y:\n",
    "    print('First number is greater than the second')\n",
    "elif x<y:\n",
    "     print('First number is less than the second')\n",
    "else:\n",
    "    print('The two numbers are equal')\n",
    "concat=str(x)+str(y)\n",
    "print(concat)\n",
    "rep_concat=concat*3\n",
    "print(rep_concat)\n",
    "if add>100:\n",
    "    print('Big sum!')\n",
    "elif 50 <= add <= 100:\n",
    "    print('Moderate Sum')\n",
    "else:\n",
    "    print('Small sum')"
   ]
  },
  {
   "cell_type": "code",
   "execution_count": null,
   "id": "b24705a2-2ded-427e-99c7-cb219a6dfa2d",
   "metadata": {},
   "outputs": [],
   "source": []
  }
 ],
 "metadata": {
  "kernelspec": {
   "display_name": "Python 3 (ipykernel)",
   "language": "python",
   "name": "python3"
  },
  "language_info": {
   "codemirror_mode": {
    "name": "ipython",
    "version": 3
   },
   "file_extension": ".py",
   "mimetype": "text/x-python",
   "name": "python",
   "nbconvert_exporter": "python",
   "pygments_lexer": "ipython3",
   "version": "3.12.4"
  }
 },
 "nbformat": 4,
 "nbformat_minor": 5
}
