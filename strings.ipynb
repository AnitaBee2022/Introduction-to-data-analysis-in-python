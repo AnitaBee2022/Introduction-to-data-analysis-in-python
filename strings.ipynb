{
 "cells": [
  {
   "cell_type": "code",
   "execution_count": 3,
   "id": "701d9190-c661-4d26-afc5-b0ef79a1a683",
   "metadata": {},
   "outputs": [
    {
     "data": {
      "text/plain": [
       "'Berryl Akoth'"
      ]
     },
     "execution_count": 3,
     "metadata": {},
     "output_type": "execute_result"
    }
   ],
   "source": [
    "first=\"Berryl\"\n",
    "second=\" Akoth\"\n",
    "first+second# String concatenation"
   ]
  },
  {
   "cell_type": "code",
   "execution_count": 14,
   "id": "29f04a11-30ed-4334-9d46-fce048b873e3",
   "metadata": {},
   "outputs": [
    {
     "data": {
      "text/plain": [
       "'BerrylBerryl'"
      ]
     },
     "execution_count": 14,
     "metadata": {},
     "output_type": "execute_result"
    }
   ],
   "source": [
    "first*2#repetition"
   ]
  },
  {
   "cell_type": "code",
   "execution_count": 24,
   "id": "d11f04e3-e35b-4bc4-b996-b8339c81556d",
   "metadata": {},
   "outputs": [
    {
     "data": {
      "text/plain": [
       "'t'"
      ]
     },
     "execution_count": 24,
     "metadata": {},
     "output_type": "execute_result"
    }
   ],
   "source": [
    "second[4]#indexing"
   ]
  },
  {
   "cell_type": "code",
   "execution_count": 27,
   "id": "d266bd74-6fc2-447c-96ec-ca3d1ac0c2b9",
   "metadata": {},
   "outputs": [
    {
     "data": {
      "text/plain": [
       "'Berryl Akoth'"
      ]
     },
     "execution_count": 27,
     "metadata": {},
     "output_type": "execute_result"
    }
   ],
   "source": [
    "fullname=first + second\n",
    "fullname"
   ]
  },
  {
   "cell_type": "code",
   "execution_count": 31,
   "id": "a2847cad-ca18-4e60-9f40-4fc16504a0fd",
   "metadata": {},
   "outputs": [
    {
     "data": {
      "text/plain": [
       "'Berryl '"
      ]
     },
     "execution_count": 31,
     "metadata": {},
     "output_type": "execute_result"
    }
   ],
   "source": [
    "fullname[0:7] #slicing"
   ]
  },
  {
   "cell_type": "code",
   "execution_count": 33,
   "id": "d8905c85-b79e-4bf8-9a60-145bde9b126c",
   "metadata": {},
   "outputs": [
    {
     "name": "stdin",
     "output_type": "stream",
     "text": [
      "Enter your name:  BERRYL OTIENO\n"
     ]
    },
    {
     "name": "stdout",
     "output_type": "stream",
     "text": [
      "Hello, BERRYL OTIENO\n"
     ]
    }
   ],
   "source": [
    "name = input(\"Enter your name: \")#input function\n",
    "print(\"Hello, \" + name)#output function"
   ]
  },
  {
   "cell_type": "code",
   "execution_count": 35,
   "id": "1091458e-8aad-4b14-a77f-0f3dbbc0da9f",
   "metadata": {},
   "outputs": [
    {
     "name": "stdout",
     "output_type": "stream",
     "text": [
      "BERRYL OTIENO\n"
     ]
    }
   ],
   "source": [
    "print(name)\n"
   ]
  },
  {
   "cell_type": "code",
   "execution_count": 39,
   "id": "9e071ab9-9a8e-4bbf-ac1a-22ea76202016",
   "metadata": {},
   "outputs": [
    {
     "name": "stdout",
     "output_type": "stream",
     "text": [
      "0\n",
      "1\n",
      "2\n",
      "3\n",
      "4\n"
     ]
    }
   ],
   "source": [
    "for i in range(5):\n",
    "    print(i)"
   ]
  },
  {
   "cell_type": "code",
   "execution_count": 41,
   "id": "1a27bb87-85ee-43df-9b04-d25ceb9f821b",
   "metadata": {},
   "outputs": [
    {
     "name": "stdout",
     "output_type": "stream",
     "text": [
      "B\n",
      "e\n",
      "r\n",
      "r\n",
      "y\n",
      "l\n",
      " \n",
      "A\n",
      "k\n",
      "o\n",
      "t\n",
      "h\n"
     ]
    }
   ],
   "source": [
    "for a in fullname:\n",
    "    print(a)"
   ]
  },
  {
   "cell_type": "code",
   "execution_count": 45,
   "id": "8b7efd64-c8e2-4cd6-a08f-4349c95b3ea3",
   "metadata": {},
   "outputs": [
    {
     "name": "stdout",
     "output_type": "stream",
     "text": [
      "1\n",
      "3\n"
     ]
    }
   ],
   "source": [
    "for i in range(1,5,2):\n",
    "    print(i)"
   ]
  },
  {
   "cell_type": "code",
   "execution_count": null,
   "id": "a13b5b4a-ae85-430f-aedd-86e564370c73",
   "metadata": {},
   "outputs": [],
   "source": []
  }
 ],
 "metadata": {
  "kernelspec": {
   "display_name": "Python 3 (ipykernel)",
   "language": "python",
   "name": "python3"
  },
  "language_info": {
   "codemirror_mode": {
    "name": "ipython",
    "version": 3
   },
   "file_extension": ".py",
   "mimetype": "text/x-python",
   "name": "python",
   "nbconvert_exporter": "python",
   "pygments_lexer": "ipython3",
   "version": "3.12.4"
  }
 },
 "nbformat": 4,
 "nbformat_minor": 5
}
